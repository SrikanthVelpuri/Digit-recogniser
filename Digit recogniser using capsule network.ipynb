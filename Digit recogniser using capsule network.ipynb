{
 "cells": [
  {
   "cell_type": "code",
   "execution_count": null,
   "metadata": {
    "collapsed": true
   },
   "outputs": [],
   "source": []
  },
  {
   "cell_type": "code",
   "execution_count": 2,
   "metadata": {},
   "outputs": [
    {
     "name": "stderr",
     "output_type": "stream",
     "text": [
      "Using TensorFlow backend.\n"
     ]
    }
   ],
   "source": [
    "import numpy as np\n",
    "import os\n",
    "import pandas as pd\n",
    "from keras.preprocessing.image import ImageDataGenerator\n",
    "from keras import callbacks\n",
    "from keras.utils.vis_utils import plot_model"
   ]
  },
  {
   "cell_type": "code",
   "execution_count": null,
   "metadata": {
    "collapsed": true
   },
   "outputs": [],
   "source": []
  },
  {
   "cell_type": "code",
   "execution_count": null,
   "metadata": {
    "collapsed": true
   },
   "outputs": [],
   "source": []
  },
  {
   "cell_type": "code",
   "execution_count": 3,
   "metadata": {
    "collapsed": true
   },
   "outputs": [],
   "source": [
    "import keras.backend as K\n",
    "import tensorflow as tf\n",
    "from keras import initializers, layers\n",
    "\n",
    "class Length(layers.Layer):\n",
    "    \"\"\"\n",
    "    Compute the length of vectors. This is used to compute a Tensor that has the same shape with y_true in margin_loss\n",
    "    inputs: shape=[dim_1, ..., dim_{n-1}, dim_n]\n",
    "    output: shape=[dim_1, ..., dim_{n-1}]\n",
    "    \"\"\"\n",
    "    def call(self, inputs, **kwargs):\n",
    "        return K.sqrt(K.sum(K.square(inputs), -1))\n",
    "\n",
    "    def compute_output_shape(self, input_shape):\n",
    "        return input_shape[:-1]\n",
    "\n",
    "class Mask(layers.Layer):\n",
    "    \"\"\"\n",
    "    Mask a Tensor with shape=[None, d1, d2] by the max value in axis=1.\n",
    "    Output shape: [None, d2]\n",
    "    \"\"\"\n",
    "    def call(self, inputs, **kwargs):\n",
    "        # use true label to select target capsule, shape=[batch_size, num_capsule]\n",
    "        if type(inputs) is list:  # true label is provided with shape = [batch_size, n_classes], i.e. one-hot code.\n",
    "            assert len(inputs) == 2\n",
    "            inputs, mask = inputs\n",
    "        else:  # if no true label, mask by the max length of vectors of capsules\n",
    "            x = inputs\n",
    "            # Enlarge the range of values in x to make max(new_x)=1 and others < 0\n",
    "            x = (x - K.max(x, 1, True)) / K.epsilon() + 1\n",
    "            mask = K.clip(x, 0, 1)  # the max value in x clipped to 1 and other to 0\n",
    "\n",
    "        # masked inputs, shape = [batch_size, dim_vector]\n",
    "        inputs_masked = K.batch_dot(inputs, mask, [1, 1])\n",
    "        return inputs_masked\n",
    "\n",
    "    def compute_output_shape(self, input_shape):\n",
    "        if type(input_shape[0]) is tuple:  # true label provided\n",
    "            return tuple([None, input_shape[0][-1]])\n",
    "        else:\n",
    "            return tuple([None, input_shape[-1]])\n",
    "\n",
    "\n",
    "def squash(vectors, axis=-1):\n",
    "    \"\"\"\n",
    "    The non-linear activation used in Capsule. It drives the length of a large vector to near 1 and small vector to 0\n",
    "    :param vectors: some vectors to be squashed, N-dim tensor\n",
    "    :param axis: the axis to squash\n",
    "    :return: a Tensor with same shape as input vectors\n",
    "    \"\"\"\n",
    "    s_squared_norm = K.sum(K.square(vectors), axis, keepdims=True)\n",
    "    scale = s_squared_norm / (1 + s_squared_norm) / K.sqrt(s_squared_norm)\n",
    "    return scale * vectors\n",
    "\n",
    "\n",
    "class CapsuleLayer(layers.Layer):\n",
    "    \"\"\"\n",
    "    The capsule layer. It is similar to Dense layer. Dense layer has `in_num` inputs, each is a scalar, the output of the \n",
    "    neuron from the former layer, and it has `out_num` output neurons. CapsuleLayer just expand the output of the neuron\n",
    "    from scalar to vector. So its input shape = [None, input_num_capsule, input_dim_vector] and output shape = \\\n",
    "    [None, num_capsule, dim_vector]. For Dense Layer, input_dim_vector = dim_vector = 1.\n",
    "    \n",
    "    :param num_capsule: number of capsules in this layer\n",
    "    :param dim_vector: dimension of the output vectors of the capsules in this layer\n",
    "    :param num_routings: number of iterations for the routing algorithm\n",
    "    \"\"\"\n",
    "    def __init__(self, num_capsule, dim_vector, num_routing=3,\n",
    "                 kernel_initializer='glorot_uniform',\n",
    "                 bias_initializer='zeros',\n",
    "                 **kwargs):\n",
    "        super(CapsuleLayer, self).__init__(**kwargs)\n",
    "        self.num_capsule = num_capsule\n",
    "        self.dim_vector = dim_vector\n",
    "        self.num_routing = num_routing\n",
    "        self.kernel_initializer = initializers.get(kernel_initializer)\n",
    "        self.bias_initializer = initializers.get(bias_initializer)\n",
    "\n",
    "    def build(self, input_shape):\n",
    "        assert len(input_shape) >= 3, \"The input Tensor should have shape=[None, input_num_capsule, input_dim_vector]\"\n",
    "        self.input_num_capsule = input_shape[1]\n",
    "        self.input_dim_vector = input_shape[2]\n",
    "\n",
    "        # Transform matrix\n",
    "        self.W = self.add_weight(shape=[self.input_num_capsule, self.num_capsule, self.input_dim_vector, self.dim_vector],\n",
    "                                 initializer=self.kernel_initializer,\n",
    "                                 name='W')\n",
    "\n",
    "        # Coupling coefficient. The redundant dimensions are just to facilitate subsequent matrix calculation.\n",
    "        self.bias = self.add_weight(shape=[1, self.input_num_capsule, self.num_capsule, 1, 1],\n",
    "                                    initializer=self.bias_initializer,\n",
    "                                    name='bias',\n",
    "                                    trainable=False)\n",
    "        self.built = True\n",
    "\n",
    "    def call(self, inputs, training=None):\n",
    "        # inputs.shape=[None, input_num_capsule, input_dim_vector]\n",
    "        # Expand dims to [None, input_num_capsule, 1, 1, input_dim_vector]\n",
    "        inputs_expand = K.expand_dims(K.expand_dims(inputs, 2), 2)\n",
    "\n",
    "        # Replicate num_capsule dimension to prepare being multiplied by W\n",
    "        # Now it has shape = [None, input_num_capsule, num_capsule, 1, input_dim_vector]\n",
    "        inputs_tiled = K.tile(inputs_expand, [1, 1, self.num_capsule, 1, 1])\n",
    "\n",
    "        \"\"\"  \n",
    "        # Compute `inputs * W` by expanding the first dim of W. More time-consuming and need batch_size.\n",
    "        # Now W has shape  = [batch_size, input_num_capsule, num_capsule, input_dim_vector, dim_vector]\n",
    "        w_tiled = K.tile(K.expand_dims(self.W, 0), [self.batch_size, 1, 1, 1, 1])\n",
    "        \n",
    "        # Transformed vectors, inputs_hat.shape = [None, input_num_capsule, num_capsule, 1, dim_vector]\n",
    "        inputs_hat = K.batch_dot(inputs_tiled, w_tiled, [4, 3])\n",
    "        \"\"\"\n",
    "        # Compute `inputs * W` by scanning inputs_tiled on dimension 0. This is faster but requires Tensorflow.\n",
    "        # inputs_hat.shape = [None, input_num_capsule, num_capsule, 1, dim_vector]\n",
    "        inputs_hat = tf.scan(lambda ac, x: K.batch_dot(x, self.W, [3, 2]),\n",
    "                             elems=inputs_tiled,\n",
    "                             initializer=K.zeros([self.input_num_capsule, self.num_capsule, 1, self.dim_vector]))\n",
    "        \"\"\"\n",
    "        # Routing algorithm V1. Use tf.while_loop in a dynamic way.\n",
    "        def body(i, b, outputs):\n",
    "            c = tf.nn.softmax(self.bias, dim=2)  # dim=2 is the num_capsule dimension\n",
    "            outputs = squash(K.sum(c * inputs_hat, 1, keepdims=True))\n",
    "            b = b + K.sum(inputs_hat * outputs, -1, keepdims=True)\n",
    "            return [i-1, b, outputs]\n",
    "\n",
    "        cond = lambda i, b, inputs_hat: i > 0\n",
    "        loop_vars = [K.constant(self.num_routing), self.bias, K.sum(inputs_hat, 1, keepdims=True)]\n",
    "        _, _, outputs = tf.while_loop(cond, body, loop_vars)\n",
    "        \"\"\"\n",
    "        # Routing algorithm V2. Use iteration. V2 and V1 both work without much difference on performance\n",
    "        assert self.num_routing > 0, 'The num_routing should be > 0.'\n",
    "        for i in range(self.num_routing):\n",
    "            c = tf.nn.softmax(self.bias, dim=2)  # dim=2 is the num_capsule dimension\n",
    "            # outputs.shape=[None, 1, num_capsule, 1, dim_vector]\n",
    "            outputs = squash(K.sum(c * inputs_hat, 1, keepdims=True))\n",
    "\n",
    "            # last iteration needs not compute bias which will not be passed to the graph any more anyway.\n",
    "            if i != self.num_routing - 1:\n",
    "                # self.bias = K.update_add(self.bias, K.sum(inputs_hat * outputs, [0, -1], keepdims=True))\n",
    "                self.bias += K.sum(inputs_hat * outputs, -1, keepdims=True)\n",
    "            # tf.summary.histogram('BigBee', self.bias)  # for debugging\n",
    "        return K.reshape(outputs, [-1, self.num_capsule, self.dim_vector])\n",
    "\n",
    "    def compute_output_shape(self, input_shape):\n",
    "        return tuple([None, self.num_capsule, self.dim_vector])\n",
    "\n",
    "\n",
    "def PrimaryCap(inputs, dim_vector, n_channels, kernel_size, strides, padding):\n",
    "    \"\"\"\n",
    "    Apply Conv2D `n_channels` times and concatenate all capsules\n",
    "    :param inputs: 4D tensor, shape=[None, width, height, channels]\n",
    "    :param dim_vector: the dim of the output vector of capsule\n",
    "    :param n_channels: the number of types of capsules\n",
    "    :return: output tensor, shape=[None, num_capsule, dim_vector]\n",
    "    \"\"\"\n",
    "    output = layers.Conv2D(filters=dim_vector*n_channels, kernel_size=kernel_size, strides=strides, padding=padding)(inputs)\n",
    "    outputs = layers.Reshape(target_shape=[-1, dim_vector])(output)\n",
    "    return layers.Lambda(squash)(outputs)"
   ]
  },
  {
   "cell_type": "markdown",
   "metadata": {},
   "source": [
    "# Build the Model\n"
   ]
  },
  {
   "cell_type": "code",
   "execution_count": 4,
   "metadata": {
    "collapsed": true
   },
   "outputs": [],
   "source": [
    "from keras import layers, models\n",
    "from keras import backend as K\n",
    "from keras.utils import to_categorical\n",
    "def CapsNet(input_shape, n_class, num_routing):\n",
    "    \"\"\"\n",
    "    A Capsule Network on MNIST.\n",
    "    :param input_shape: data shape, 4d, [None, width, height, channels]\n",
    "    :param n_class: number of classes\n",
    "    :param num_routing: number of routing iterations\n",
    "    :return: A Keras Model with 2 inputs and 2 outputs\n",
    "    \"\"\"\n",
    "    x = layers.Input(shape=input_shape)\n",
    "\n",
    "    # Layer 1: Just a conventional Conv2D layer\n",
    "    conv1 = layers.Conv2D(filters=256, kernel_size=9, strides=1, padding='valid', activation='relu', name='conv1')(x)\n",
    "\n",
    "    # Layer 2: Conv2D layer with `squash` activation, then reshape to [None, num_capsule, dim_vector]\n",
    "    primarycaps = PrimaryCap(conv1, dim_vector=8, n_channels=32, kernel_size=9, strides=2, padding='valid')\n",
    "\n",
    "    # Layer 3: Capsule layer. Routing algorithm works here.\n",
    "    digitcaps = CapsuleLayer(num_capsule=n_class, dim_vector=16, num_routing=num_routing, name='digitcaps')(primarycaps)\n",
    "\n",
    "    # Layer 4: This is an auxiliary layer to replace each capsule with its length. Just to match the true label's shape.\n",
    "    # If using tensorflow, this will not be necessary. :)\n",
    "    out_caps = Length(name='out_caps')(digitcaps)\n",
    "\n",
    "    # Decoder network.\n",
    "    y = layers.Input(shape=(n_class,))\n",
    "    masked = Mask()([digitcaps, y])  # The true label is used to mask the output of capsule layer.\n",
    "    x_recon = layers.Dense(512, activation='relu')(masked)\n",
    "    x_recon = layers.Dense(1024, activation='relu')(x_recon)\n",
    "    x_recon = layers.Dense(784, activation='sigmoid')(x_recon)\n",
    "    x_recon = layers.Reshape(target_shape=[28, 28, 1], name='out_recon')(x_recon)\n",
    "\n",
    "    # two-input-two-output keras Model\n",
    "    return models.Model([x, y], [out_caps, x_recon])"
   ]
  },
  {
   "cell_type": "code",
   "execution_count": 5,
   "metadata": {
    "collapsed": true
   },
   "outputs": [],
   "source": [
    "def margin_loss(y_true, y_pred):\n",
    "    \"\"\"\n",
    "    Margin loss for Eq.(4). When y_true[i, :] contains not just one `1`, this loss should work too. Not test it.\n",
    "    :param y_true: [None, n_classes]\n",
    "    :param y_pred: [None, num_capsule]\n",
    "    :return: a scalar loss value.\n",
    "    \"\"\"\n",
    "    L = y_true * K.square(K.maximum(0., 0.9 - y_pred)) + \\\n",
    "        0.5 * (1 - y_true) * K.square(K.maximum(0., y_pred - 0.1))\n",
    "\n",
    "    return K.mean(K.sum(L, 1))"
   ]
  },
  {
   "cell_type": "code",
   "execution_count": 11,
   "metadata": {},
   "outputs": [
    {
     "name": "stdout",
     "output_type": "stream",
     "text": [
      "__________________________________________________________________________________________________\n",
      "Layer (type)                    Output Shape         Param #     Connected to                     \n",
      "==================================================================================================\n",
      "input_1 (InputLayer)            (None, 28, 28, 1)    0                                            \n",
      "__________________________________________________________________________________________________\n",
      "conv1 (Conv2D)                  (None, 20, 20, 256)  20992       input_1[0][0]                    \n",
      "__________________________________________________________________________________________________\n",
      "conv2d_1 (Conv2D)               (None, 6, 6, 256)    5308672     conv1[0][0]                      \n",
      "__________________________________________________________________________________________________\n",
      "reshape_1 (Reshape)             (None, 1152, 8)      0           conv2d_1[0][0]                   \n",
      "__________________________________________________________________________________________________\n",
      "lambda_1 (Lambda)               (None, 1152, 8)      0           reshape_1[0][0]                  \n",
      "__________________________________________________________________________________________________\n",
      "digitcaps (CapsuleLayer)        (None, 10, 16)       1486080     lambda_1[0][0]                   \n",
      "__________________________________________________________________________________________________\n",
      "input_2 (InputLayer)            (None, 10)           0                                            \n",
      "__________________________________________________________________________________________________\n",
      "mask_1 (Mask)                   (None, 16)           0           digitcaps[0][0]                  \n",
      "                                                                 input_2[0][0]                    \n",
      "__________________________________________________________________________________________________\n",
      "dense_1 (Dense)                 (None, 512)          8704        mask_1[0][0]                     \n",
      "__________________________________________________________________________________________________\n",
      "dense_2 (Dense)                 (None, 1024)         525312      dense_1[0][0]                    \n",
      "__________________________________________________________________________________________________\n",
      "dense_3 (Dense)                 (None, 784)          803600      dense_2[0][0]                    \n",
      "__________________________________________________________________________________________________\n",
      "out_caps (Length)               (None, 10)           0           digitcaps[0][0]                  \n",
      "__________________________________________________________________________________________________\n",
      "out_recon (Reshape)             (None, 28, 28, 1)    0           dense_3[0][0]                    \n",
      "==================================================================================================\n",
      "Total params: 8,153,360\n",
      "Trainable params: 8,141,840\n",
      "Non-trainable params: 11,520\n",
      "__________________________________________________________________________________________________\n",
      "No fancy plot Failed to import pydot. You must install pydot and graphviz for `pydotprint` to work.\n"
     ]
    }
   ],
   "source": [
    "# define model\n",
    "model = CapsNet(input_shape=[28, 28, 1],\n",
    "                n_class=10,\n",
    "                num_routing=3)\n",
    "model.summary()\n",
    "try:\n",
    "    plot_model(model, to_file='model.png', show_shapes=True)\n",
    "except Exception as e:\n",
    "    print('No fancy plot {}'.format(e))"
   ]
  },
  {
   "cell_type": "code",
   "execution_count": 7,
   "metadata": {
    "collapsed": true
   },
   "outputs": [],
   "source": [
    "from sklearn.model_selection import train_test_split\n",
    "data_train = pd.read_csv('train.csv')\n",
    "X_full = data_train.iloc[:,1:]\n",
    "y_full = data_train.iloc[:,:1]\n",
    "x_train, x_test, y_train, y_test = train_test_split(X_full, y_full, test_size = 0.3)"
   ]
  },
  {
   "cell_type": "code",
   "execution_count": 8,
   "metadata": {},
   "outputs": [],
   "source": [
    "x_train = x_train.values.reshape(-1, 28, 28, 1).astype('float32') / 255.\n",
    "x_test = x_test.values.reshape(-1, 28, 28, 1).astype('float32') / 255.\n",
    "y_train = to_categorical(y_train.astype('float32'))\n",
    "y_test = to_categorical(y_test.astype('float32'))"
   ]
  },
  {
   "cell_type": "code",
   "execution_count": 9,
   "metadata": {
    "collapsed": true
   },
   "outputs": [],
   "source": [
    "def train(model, data, epoch_size_frac=0.1):\n",
    "    \"\"\"\n",
    "    Training a CapsuleNet\n",
    "    :param model: the CapsuleNet model\n",
    "    :param data: a tuple containing training and testing data, like `((x_train, y_train), (x_test, y_test))`\n",
    "    :param args: arguments\n",
    "    :return: The trained model\n",
    "    \"\"\"\n",
    "    # unpacking the data\n",
    "    (x_train, y_train), (x_test, y_test) = data\n",
    "\n",
    "    # callbacks\n",
    "    log = callbacks.CSVLogger('log.csv')\n",
    "    checkpoint = callbacks.ModelCheckpoint('weights-{epoch:02d}.h5',\n",
    "                                           save_best_only=True, save_weights_only=True, verbose=1)\n",
    "    lr_decay = callbacks.LearningRateScheduler(schedule=lambda epoch: 0.001 * np.exp(-epoch / 10.))\n",
    "\n",
    "    # compile the model\n",
    "    model.compile(optimizer='adam',\n",
    "                  loss=[margin_loss, 'mse'],\n",
    "                  loss_weights=[1., 0.0005],\n",
    "                  metrics={'out_caps': 'accuracy'})\n",
    "\n",
    "    \"\"\"\n",
    "    # Training without data augmentation:\n",
    "    model.fit([x_train, y_train], [y_train, x_train], batch_size=args.batch_size, epochs=args.epochs,\n",
    "              validation_data=[[x_test, y_test], [y_test, x_test]], callbacks=[log, tb, checkpoint])\n",
    "    \"\"\"\n",
    "\n",
    "    # -----------------------------------Begin: Training with data augmentation -----------------------------------#\n",
    "    def train_generator(x, y, batch_size, shift_fraction=0.):\n",
    "        train_datagen = ImageDataGenerator(width_shift_range=shift_fraction,\n",
    "                                           height_shift_range=shift_fraction)  # shift up to 2 pixel for MNIST\n",
    "        generator = train_datagen.flow(x, y, batch_size=batch_size)\n",
    "        while 1:\n",
    "            x_batch, y_batch = generator.next()\n",
    "            yield ([x_batch, y_batch], [y_batch, x_batch])\n",
    "\n",
    "    # Training with data augmentation. If shift_fraction=0., also no augmentation.\n",
    "    model.fit_generator(generator=train_generator(x_train, y_train, 64, 0.1),\n",
    "                        steps_per_epoch=int(epoch_size_frac*y_train.shape[0] / 64),\n",
    "                        epochs=20,\n",
    "                        validation_data=[[x_test, y_test], [y_test, x_test]],\n",
    "                        callbacks=[log, checkpoint, lr_decay])\n",
    "    # -----------------------------------End: Training with data augmentation -----------------------------------#\n",
    "\n",
    "    model.save_weights('trained_model.h5')\n",
    "    print('Trained model saved to \\'trained_model.h5\\'')\n",
    "\n",
    "    return model"
   ]
  },
  {
   "cell_type": "code",
   "execution_count": 12,
   "metadata": {},
   "outputs": [
    {
     "name": "stdout",
     "output_type": "stream",
     "text": [
      "Epoch 1/20\n",
      "44/45 [============================>.] - ETA: 6s - loss: 0.5337 - out_caps_loss: 0.5336 - out_recon_loss: 0.2271 - out_caps_acc: 0.2802 Epoch 00001: val_loss improved from inf to 0.25116, saving model to weights-01.h5\n",
      "45/45 [==============================] - 309s 7s/step - loss: 0.5294 - out_caps_loss: 0.5292 - out_recon_loss: 0.2269 - out_caps_acc: 0.2861 - val_loss: 0.2512 - val_out_caps_loss: 0.2510 - val_out_recon_loss: 0.2171 - val_out_caps_acc: 0.7667\n",
      "Epoch 2/20\n",
      "44/45 [============================>.] - ETA: 6s - loss: 0.2542 - out_caps_loss: 0.2542 - out_recon_loss: 0.1666 - out_caps_acc: 0.7163 Epoch 00002: val_loss improved from 0.25116 to 0.12680, saving model to weights-02.h5\n",
      "45/45 [==============================] - 304s 7s/step - loss: 0.2525 - out_caps_loss: 0.2524 - out_recon_loss: 0.1648 - out_caps_acc: 0.7198 - val_loss: 0.1268 - val_out_caps_loss: 0.1268 - val_out_recon_loss: 0.0747 - val_out_caps_acc: 0.9000\n",
      "Epoch 3/20\n",
      "44/45 [============================>.] - ETA: 6s - loss: 0.1442 - out_caps_loss: 0.1442 - out_recon_loss: 0.0756 - out_caps_acc: 0.8828 Epoch 00003: val_loss improved from 0.12680 to 0.08300, saving model to weights-03.h5\n",
      "45/45 [==============================] - 305s 7s/step - loss: 0.1439 - out_caps_loss: 0.1439 - out_recon_loss: 0.0755 - out_caps_acc: 0.8830 - val_loss: 0.0830 - val_out_caps_loss: 0.0830 - val_out_recon_loss: 0.0673 - val_out_caps_acc: 0.9167\n",
      "Epoch 4/20\n",
      "44/45 [============================>.] - ETA: 6s - loss: 0.1045 - out_caps_loss: 0.1044 - out_recon_loss: 0.0738 - out_caps_acc: 0.9254 Epoch 00004: val_loss improved from 0.08300 to 0.07212, saving model to weights-04.h5\n",
      "45/45 [==============================] - 305s 7s/step - loss: 0.1036 - out_caps_loss: 0.1036 - out_recon_loss: 0.0738 - out_caps_acc: 0.9260 - val_loss: 0.0721 - val_out_caps_loss: 0.0721 - val_out_recon_loss: 0.0672 - val_out_caps_acc: 0.9333\n",
      "Epoch 5/20\n",
      "44/45 [============================>.] - ETA: 6s - loss: 0.0815 - out_caps_loss: 0.0814 - out_recon_loss: 0.0727 - out_caps_acc: 0.9464 Epoch 00005: val_loss improved from 0.07212 to 0.04885, saving model to weights-05.h5\n",
      "45/45 [==============================] - 305s 7s/step - loss: 0.0814 - out_caps_loss: 0.0814 - out_recon_loss: 0.0727 - out_caps_acc: 0.9462 - val_loss: 0.0489 - val_out_caps_loss: 0.0488 - val_out_recon_loss: 0.0663 - val_out_caps_acc: 1.0000\n",
      "Epoch 6/20\n",
      "44/45 [============================>.] - ETA: 6s - loss: 0.0747 - out_caps_loss: 0.0746 - out_recon_loss: 0.0731 - out_caps_acc: 0.9457 Epoch 00006: val_loss improved from 0.04885 to 0.04764, saving model to weights-06.h5\n",
      "45/45 [==============================] - 304s 7s/step - loss: 0.0747 - out_caps_loss: 0.0746 - out_recon_loss: 0.0731 - out_caps_acc: 0.9462 - val_loss: 0.0476 - val_out_caps_loss: 0.0476 - val_out_recon_loss: 0.0662 - val_out_caps_acc: 1.0000\n",
      "Epoch 7/20\n",
      "44/45 [============================>.] - ETA: 6s - loss: 0.0619 - out_caps_loss: 0.0618 - out_recon_loss: 0.0719 - out_caps_acc: 0.9563 Epoch 00007: val_loss improved from 0.04764 to 0.03501, saving model to weights-07.h5\n",
      "45/45 [==============================] - 304s 7s/step - loss: 0.0618 - out_caps_loss: 0.0618 - out_recon_loss: 0.0719 - out_caps_acc: 0.9569 - val_loss: 0.0350 - val_out_caps_loss: 0.0350 - val_out_recon_loss: 0.0661 - val_out_caps_acc: 1.0000\n",
      "Epoch 8/20\n",
      "44/45 [============================>.] - ETA: 6s - loss: 0.0605 - out_caps_loss: 0.0604 - out_recon_loss: 0.0720 - out_caps_acc: 0.9528 Epoch 00008: val_loss did not improve\n",
      "45/45 [==============================] - 306s 7s/step - loss: 0.0602 - out_caps_loss: 0.0601 - out_recon_loss: 0.0719 - out_caps_acc: 0.9535 - val_loss: 0.0354 - val_out_caps_loss: 0.0353 - val_out_recon_loss: 0.0654 - val_out_caps_acc: 1.0000\n",
      "Epoch 9/20\n",
      "44/45 [============================>.] - ETA: 6s - loss: 0.0598 - out_caps_loss: 0.0598 - out_recon_loss: 0.0717 - out_caps_acc: 0.9577 Epoch 00009: val_loss improved from 0.03501 to 0.03283, saving model to weights-09.h5\n",
      "45/45 [==============================] - 305s 7s/step - loss: 0.0593 - out_caps_loss: 0.0593 - out_recon_loss: 0.0717 - out_caps_acc: 0.9580 - val_loss: 0.0328 - val_out_caps_loss: 0.0328 - val_out_recon_loss: 0.0653 - val_out_caps_acc: 0.9833\n",
      "Epoch 10/20\n",
      "44/45 [============================>.] - ETA: 6s - loss: 0.0535 - out_caps_loss: 0.0535 - out_recon_loss: 0.0722 - out_caps_acc: 0.9656 Epoch 00010: val_loss improved from 0.03283 to 0.02665, saving model to weights-10.h5\n",
      "45/45 [==============================] - 305s 7s/step - loss: 0.0535 - out_caps_loss: 0.0535 - out_recon_loss: 0.0721 - out_caps_acc: 0.9653 - val_loss: 0.0267 - val_out_caps_loss: 0.0266 - val_out_recon_loss: 0.0651 - val_out_caps_acc: 1.0000\n",
      "Epoch 11/20\n",
      "44/45 [============================>.] - ETA: 6s - loss: 0.0469 - out_caps_loss: 0.0469 - out_recon_loss: 0.0718 - out_caps_acc: 0.9699 Epoch 00011: val_loss did not improve\n",
      "45/45 [==============================] - 300s 7s/step - loss: 0.0467 - out_caps_loss: 0.0466 - out_recon_loss: 0.0718 - out_caps_acc: 0.9706 - val_loss: 0.0268 - val_out_caps_loss: 0.0268 - val_out_recon_loss: 0.0646 - val_out_caps_acc: 1.0000\n",
      "Epoch 12/20\n",
      "44/45 [============================>.] - ETA: 6s - loss: 0.0476 - out_caps_loss: 0.0476 - out_recon_loss: 0.0713 - out_caps_acc: 0.9673 Epoch 00012: val_loss improved from 0.02665 to 0.02337, saving model to weights-12.h5\n",
      "45/45 [==============================] - 305s 7s/step - loss: 0.0475 - out_caps_loss: 0.0474 - out_recon_loss: 0.0713 - out_caps_acc: 0.9677 - val_loss: 0.0234 - val_out_caps_loss: 0.0233 - val_out_recon_loss: 0.0643 - val_out_caps_acc: 1.0000\n",
      "Epoch 13/20\n",
      "44/45 [============================>.] - ETA: 6s - loss: 0.0439 - out_caps_loss: 0.0439 - out_recon_loss: 0.0712 - out_caps_acc: 0.9670 Epoch 00013: val_loss improved from 0.02337 to 0.02256, saving model to weights-13.h5\n",
      "45/45 [==============================] - 304s 7s/step - loss: 0.0444 - out_caps_loss: 0.0444 - out_recon_loss: 0.0711 - out_caps_acc: 0.9660 - val_loss: 0.0226 - val_out_caps_loss: 0.0225 - val_out_recon_loss: 0.0643 - val_out_caps_acc: 1.0000\n",
      "Epoch 14/20\n",
      "44/45 [============================>.] - ETA: 6s - loss: 0.0435 - out_caps_loss: 0.0435 - out_recon_loss: 0.0709 - out_caps_acc: 0.9702 Epoch 00014: val_loss improved from 0.02256 to 0.02147, saving model to weights-14.h5\n",
      "45/45 [==============================] - 304s 7s/step - loss: 0.0437 - out_caps_loss: 0.0437 - out_recon_loss: 0.0709 - out_caps_acc: 0.9705 - val_loss: 0.0215 - val_out_caps_loss: 0.0214 - val_out_recon_loss: 0.0638 - val_out_caps_acc: 1.0000\n",
      "Epoch 15/20\n",
      "44/45 [============================>.] - ETA: 6s - loss: 0.0406 - out_caps_loss: 0.0405 - out_recon_loss: 0.0715 - out_caps_acc: 0.9737 Epoch 00015: val_loss did not improve\n",
      "45/45 [==============================] - 304s 7s/step - loss: 0.0405 - out_caps_loss: 0.0404 - out_recon_loss: 0.0714 - out_caps_acc: 0.9743 - val_loss: 0.0232 - val_out_caps_loss: 0.0232 - val_out_recon_loss: 0.0637 - val_out_caps_acc: 0.9833\n",
      "Epoch 16/20\n",
      "44/45 [============================>.] - ETA: 6s - loss: 0.0400 - out_caps_loss: 0.0400 - out_recon_loss: 0.0704 - out_caps_acc: 0.9730 Epoch 00016: val_loss did not improve\n",
      "45/45 [==============================] - 305s 7s/step - loss: 0.0399 - out_caps_loss: 0.0398 - out_recon_loss: 0.0704 - out_caps_acc: 0.9736 - val_loss: 0.0216 - val_out_caps_loss: 0.0216 - val_out_recon_loss: 0.0636 - val_out_caps_acc: 1.0000\n",
      "Epoch 17/20\n",
      "44/45 [============================>.] - ETA: 6s - loss: 0.0381 - out_caps_loss: 0.0381 - out_recon_loss: 0.0704 - out_caps_acc: 0.9737 Epoch 00017: val_loss improved from 0.02147 to 0.01928, saving model to weights-17.h5\n",
      "45/45 [==============================] - 308s 7s/step - loss: 0.0390 - out_caps_loss: 0.0390 - out_recon_loss: 0.0704 - out_caps_acc: 0.9726 - val_loss: 0.0193 - val_out_caps_loss: 0.0192 - val_out_recon_loss: 0.0634 - val_out_caps_acc: 1.0000\n",
      "Epoch 18/20\n",
      "44/45 [============================>.] - ETA: 6s - loss: 0.0369 - out_caps_loss: 0.0369 - out_recon_loss: 0.0704 - out_caps_acc: 0.9744 Epoch 00018: val_loss did not improve\n",
      "45/45 [==============================] - 305s 7s/step - loss: 0.0370 - out_caps_loss: 0.0370 - out_recon_loss: 0.0703 - out_caps_acc: 0.9743 - val_loss: 0.0198 - val_out_caps_loss: 0.0198 - val_out_recon_loss: 0.0633 - val_out_caps_acc: 1.0000\n"
     ]
    },
    {
     "name": "stdout",
     "output_type": "stream",
     "text": [
      "Epoch 19/20\n",
      "44/45 [============================>.] - ETA: 6s - loss: 0.0361 - out_caps_loss: 0.0361 - out_recon_loss: 0.0696 - out_caps_acc: 0.9741 Epoch 00019: val_loss improved from 0.01928 to 0.01671, saving model to weights-19.h5\n",
      "45/45 [==============================] - 307s 7s/step - loss: 0.0360 - out_caps_loss: 0.0360 - out_recon_loss: 0.0695 - out_caps_acc: 0.9743 - val_loss: 0.0167 - val_out_caps_loss: 0.0167 - val_out_recon_loss: 0.0631 - val_out_caps_acc: 1.0000\n",
      "Epoch 20/20\n",
      "44/45 [============================>.] - ETA: 6s - loss: 0.0355 - out_caps_loss: 0.0355 - out_recon_loss: 0.0705 - out_caps_acc: 0.9769 Epoch 00020: val_loss did not improve\n",
      "45/45 [==============================] - 305s 7s/step - loss: 0.0358 - out_caps_loss: 0.0358 - out_recon_loss: 0.0705 - out_caps_acc: 0.9767 - val_loss: 0.0168 - val_out_caps_loss: 0.0168 - val_out_recon_loss: 0.0630 - val_out_caps_acc: 1.0000\n",
      "Trained model saved to 'trained_model.h5'\n"
     ]
    },
    {
     "data": {
      "text/plain": [
       "<keras.engine.training.Model at 0x17fe4893fd0>"
      ]
     },
     "execution_count": 12,
     "metadata": {},
     "output_type": "execute_result"
    }
   ],
   "source": [
    "train(model=model, data=((x_train, y_train), (x_test[:60], y_test[:60])), \n",
    "      epoch_size_frac = 0.1)"
   ]
  },
  {
   "cell_type": "code",
   "execution_count": 13,
   "metadata": {
    "collapsed": true
   },
   "outputs": [],
   "source": [
    "def combine_images(generated_images):\n",
    "    num = generated_images.shape[0]\n",
    "    width = int(np.sqrt(num))\n",
    "    height = int(np.ceil(float(num)/width))\n",
    "    shape = generated_images.shape[1:3]\n",
    "    image = np.zeros((height*shape[0], width*shape[1]),\n",
    "                     dtype=generated_images.dtype)\n",
    "    for index, img in enumerate(generated_images):\n",
    "        i = int(index/width)\n",
    "        j = index % width\n",
    "        image[i*shape[0]:(i+1)*shape[0], j*shape[1]:(j+1)*shape[1]] = \\\n",
    "            img[:, :, 0]\n",
    "    return image\n",
    "\n",
    "def test(model, data):\n",
    "    x_test, y_test = data\n",
    "    y_pred, x_recon = model.predict([x_test, y_test], batch_size=100)\n",
    "    print('-'*50)\n",
    "    print('Test acc:', np.sum(np.argmax(y_pred, 1) == np.argmax(y_test, 1))/y_test.shape[0])\n",
    "\n",
    "    import matplotlib.pyplot as plt\n",
    "    from PIL import Image\n",
    "\n",
    "    img = combine_images(np.concatenate([x_test[:50],x_recon[:50]]))\n",
    "    image = img * 255\n",
    "    Image.fromarray(image.astype(np.uint8)).save(\"real_and_recon.png\")\n",
    "    print()\n",
    "    print('Reconstructed images are saved to ./real_and_recon.png')\n",
    "    print('-'*50)\n",
    "    plt.imshow(plt.imread(\"real_and_recon.png\", ))\n",
    "    plt.show()"
   ]
  },
  {
   "cell_type": "markdown",
   "metadata": {},
   "source": [
    "# Show the results"
   ]
  },
  {
   "cell_type": "code",
   "execution_count": 15,
   "metadata": {},
   "outputs": [
    {
     "name": "stdout",
     "output_type": "stream",
     "text": [
      "--------------------------------------------------\n",
      "Test acc: 0.982619047619\n",
      "\n",
      "Reconstructed images are saved to ./real_and_recon.png\n",
      "--------------------------------------------------\n"
     ]
    },
    {
     "data": {
      "image/png": "[encoded data removed]",
      "text/plain": [
       "<matplotlib.figure.Figure at 0x17f439bc828>"
      ]
     },
     "metadata": {},
     "output_type": "display_data"
    }
   ],
   "source": [
    "test(model=model, data=(x_test, y_test))"
   ]
  },
  {
   "cell_type": "markdown",
   "metadata": {},
   "source": [
    "# Apply Model to the Competition Data"
   ]
  },
  {
   "cell_type": "code",
   "execution_count": null,
   "metadata": {
    "collapsed": true
   },
   "outputs": [],
   "source": [
    "data_test = pd.read_csv('test.csv')\n",
    "data_test = data_test.values.reshape(-1, 28, 28, 1).astype('float32') / 255.\n",
    "y_pred, _ = model.predict([data_test, \n",
    "                           np.zeros((data_test.shape[0],10))], # empty values for the second vector \n",
    "                           batch_size = 32, verbose = True)"
   ]
  },
  {
   "cell_type": "code",
   "execution_count": null,
   "metadata": {
    "collapsed": true
   },
   "outputs": [],
   "source": []
  }
 ],
 "metadata": {
  "kernelspec": {
   "display_name": "Python 3",
   "language": "python",
   "name": "python3"
  },
  "language_info": {
   "codemirror_mode": {
    "name": "ipython",
    "version": 3
   },
   "file_extension": ".py",
   "mimetype": "text/x-python",
   "name": "python",
   "nbconvert_exporter": "python",
   "pygments_lexer": "ipython3",
   "version": "3.6.3"
  }
 },
 "nbformat": 4,
 "nbformat_minor": 2
}
